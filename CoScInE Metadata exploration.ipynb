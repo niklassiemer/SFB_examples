{
 "cells": [
  {
   "cell_type": "markdown",
   "metadata": {},
   "source": [
    "# (CoScInE) Metadata exploration\n",
    "\n",
    "This notebook shows how to explore the metadata stored in the SFB1394 project on CoScInE."
   ]
  },
  {
   "cell_type": "code",
   "execution_count": 1,
   "metadata": {},
   "outputs": [],
   "source": [
    "from sfb_metadata import CoscineOverview, DataExplorer, WorkCoscineOverview"
   ]
  },
  {
   "cell_type": "markdown",
   "metadata": {},
   "source": [
    "Here you may specify your token to also access file contents on coscine (or to update the metadata with all resources currently accessible by you). The CoscineOverview is the basic interface to CoScInE and the WorkCoscineOverview gives access to metadata for specific Resources/Files/Schemes:"
   ]
  },
  {
   "cell_type": "code",
   "execution_count": 2,
   "metadata": {},
   "outputs": [],
   "source": [
    "co = CoscineOverview(token=None)  # Provide your coscine token to get access to file contents, as well.\n",
    "meta_data_worker = WorkCoscineOverview(co)"
   ]
  },
  {
   "cell_type": "code",
   "execution_count": 3,
   "metadata": {},
   "outputs": [],
   "source": [
    "from coscine import Client"
   ]
  },
  {
   "cell_type": "code",
   "execution_count": 4,
   "metadata": {},
   "outputs": [],
   "source": [
    "#with open('../../../CoScInE_tokens.txt') as f:\n",
    "#    co.client = Client(token=f.read(), verbose=False)"
   ]
  },
  {
   "cell_type": "code",
   "execution_count": 6,
   "metadata": {},
   "outputs": [
    {
     "name": "stdout",
     "output_type": "stream",
     "text": [
      "Project: SFB1394 at /SFB1394\n",
      "  Resource Document Library at /SFB1394/Document Library\n",
      "  Resource Samples Project S at /SFB1394/Samples Project S\n",
      "Project: A01 at /SFB1394/A01\n",
      "  Resource EBSD on Mg-Al-Ca Solid Solution at /SFB1394/A01/EBSD on Mg-Al-Ca Solid Solution\n",
      "  Resource EDX on Mg-Al-Ca Solid Solutions at /SFB1394/A01/EDX on Mg-Al-Ca Solid Solutions\n",
      "  Resource SEM on Mg-Al-Ca solid solutions at /SFB1394/A01/SEM on Mg-Al-Ca solid solutions\n",
      "  Resource Tensile Test of Mg-Al-Ca Solid Solutions at /SFB1394/A01/Tensile Test of Mg-Al-Ca Solid Solutions\n",
      "  Resource XRD pole figures of Mg-Al-Ca Solid Solution at /SFB1394/A01/XRD pole figures of Mg-Al-Ca Solid Solution\n",
      "Project: A02 at /SFB1394/A02\n",
      "  Resource TEST Atomistic Configuration at /SFB1394/A02/TEST Atomistic Configuration\n",
      "Project: A03 at /SFB1394/A03\n",
      "  Resource eew at /SFB1394/A03/eew\n",
      "  Resource TEM at /SFB1394/A03/TEM\n",
      "Project: A04 at /SFB1394/A04\n",
      "Project: A05 at /SFB1394/A05\n",
      "  Resource Calibration Sample at /SFB1394/A05/Calibration Sample\n",
      "  Resource Document Library at /SFB1394/A05/Document Library\n",
      "  Resource I1_PreSample at /SFB1394/A05/I1_PreSample\n",
      "  Resource I2b at /SFB1394/A05/I2b\n",
      "  Resource I2d_annealed_S1 at /SFB1394/A05/I2d_annealed_S1\n",
      "  Resource I2d_annealed_S1 at /SFB1394/A05/I2d_annealed_S1\n",
      "  Resource I2d_annealed_S2 at /SFB1394/A05/I2d_annealed_S2\n",
      "  Resource I2d_annealed_S2nanoindentation at /SFB1394/A05/I2d_annealed_S2nanoindentation\n",
      "  Resource I2d at /SFB1394/A05/I2d\n",
      "  Resource I2d_S2 at /SFB1394/A05/I2d_S2\n",
      "Project: A06 at /SFB1394/A06\n",
      "  Resource Atomistic simulation of Mg-Al grain boundary at /SFB1394/A06/Atomistic simulation of Mg-Al grain boundary\n",
      "Project: test at /SFB1394/A06/test\n",
      "  Resource TestS3Resource at /SFB1394/A06/test/TestS3Resource\n",
      "Project: B01 at /SFB1394/B01\n",
      "  Resource Document Library at /SFB1394/B01/Document Library\n",
      "  Resource EBSD C3 500°C at /SFB1394/B01/EBSD C3 500°C\n",
      "Project: B02 at /SFB1394/B02\n",
      "  Resource Document Library at /SFB1394/B02/Document Library\n",
      "Project: B03 at /SFB1394/B03\n",
      "  Resource Bulk Sample_Mg1Al0.006Ca_NativeOxide at /SFB1394/B03/Bulk Sample_Mg1Al0.006Ca_NativeOxide\n",
      "  Resource Bulk Sample_Mg1Al0.1Ca_NativeOxide at /SFB1394/B03/Bulk Sample_Mg1Al0.1Ca_NativeOxide\n",
      "  Resource Bulk Sample_Mg1Al0-05Ca at /SFB1394/B03/Bulk Sample_Mg1Al0-05Ca\n",
      "  Resource Bulk Sample_Mg5Al3Ca_StressTest_170 at /SFB1394/B03/Bulk Sample_Mg5Al3Ca_StressTest_170\n",
      "  Resource Bulk Sample_MgAlCa at /SFB1394/B03/Bulk Sample_MgAlCa\n",
      "  Resource Thin film_Mg2Ca-Mg_BiLay at /SFB1394/B03/Thin film_Mg2Ca-Mg_BiLay\n",
      "  Resource Thin Film_Mg99.5Ca0.5_100C at /SFB1394/B03/Thin Film_Mg99.5Ca0.5_100C\n",
      "  Resource Thin Film_Mg99.5Ca0.5_RT at /SFB1394/B03/Thin Film_Mg99.5Ca0.5_RT\n",
      "  Resource Thin Film_Mg-Al/Mg_100 at /SFB1394/B03/Thin Film_Mg-Al/Mg_100\n",
      "  Resource Thin film_Mg-Al/Mg_RT at /SFB1394/B03/Thin film_Mg-Al/Mg_RT\n",
      "  Resource Thin film_Mg-Al-Ca_100 at /SFB1394/B03/Thin film_Mg-Al-Ca_100\n",
      "  Resource Thin film_Mg-Al-Ca_100 at /SFB1394/B03/Thin film_Mg-Al-Ca_100\n",
      "  Resource Thin Film_Mg-Al-Ca_100 at /SFB1394/B03/Thin Film_Mg-Al-Ca_100\n",
      "  Resource Thin Film_Mg-Al-Ca_100C at /SFB1394/B03/Thin Film_Mg-Al-Ca_100C\n",
      "Project: Composites at /SFB1394/B03/Composites\n",
      "  Resource Bulk Sample_Mg5Al3Ca_StressTest_170 at /SFB1394/B03/Composites/Bulk Sample_Mg5Al3Ca_StressTest_170\n",
      "  Resource Thin film_Mg2Ca-Mg_BiLay at /SFB1394/B03/Composites/Thin film_Mg2Ca-Mg_BiLay\n",
      "  Resource Thin Film_Mg-Al/Mg_100 at /SFB1394/B03/Composites/Thin Film_Mg-Al/Mg_100\n",
      "  Resource Thin film_Mg-Al/Mg_RT at /SFB1394/B03/Composites/Thin film_Mg-Al/Mg_RT\n",
      "Project: Intermetallics at /SFB1394/B03/Intermetallics\n",
      "Project: SolidSolutions at /SFB1394/B03/SolidSolutions\n",
      "  Resource Bulk Sample_Mg1Al0.006Ca_NativeOxide at /SFB1394/B03/SolidSolutions/Bulk Sample_Mg1Al0.006Ca_NativeOxide\n",
      "     Problem for receiving metadata for file R68_06788-v02-clip_500nm_CaH-1k-iso1%.BMP with ClientError('')\n",
      "     Persistent problem for receiving metadata for file R68_06788-v02-clip_500nm_CaH-1k-iso1%.BMP: ClientError('')\n",
      "     Problem for receiving metadata for file R68_06788-v02-clip_500nm_CaHMgk.BMP with ClientError('')\n",
      "     Persistent problem for receiving metadata for file R68_06788-v02-clip_500nm_CaHMgk.BMP: ClientError('')\n",
      "     Problem for receiving metadata for file R68_06788-v02-clip_500nm_Cyl.BMP with ClientError('')\n",
      "     Persistent problem for receiving metadata for file R68_06788-v02-clip_500nm_Cyl.BMP: ClientError('')\n",
      "     Problem for receiving metadata for file R68_06788-v02-clip_500nm_Mg-200k-iso96%.BMP with ClientError('')\n",
      "     Persistent problem for receiving metadata for file R68_06788-v02-clip_500nm_Mg-200k-iso96%.BMP: ClientError('')\n",
      "     Problem for receiving metadata for file R68_06788-v02-clip_500nm_Mg-200k.BMP with ClientError('')\n",
      "     Persistent problem for receiving metadata for file R68_06788-v02-clip_500nm_Mg-200k.BMP: ClientError('')\n",
      "     Problem for receiving metadata for file R68_06788-v02-clip_500nm_Mg2O-26k-iso5%.BMP with ClientError('')\n",
      "     Persistent problem for receiving metadata for file R68_06788-v02-clip_500nm_Mg2O-26k-iso5%.BMP: ClientError('')\n",
      "     Problem for receiving metadata for file R68_06788-v02-clip_500nm_Mg2O-26k-iso5%Mg.BMP with ClientError('')\n",
      "     Persistent problem for receiving metadata for file R68_06788-v02-clip_500nm_Mg2O-26k-iso5%Mg.BMP: ClientError('')\n",
      "     Problem for receiving metadata for file R68_06788-v02-clip_500nm_Mg2O-26k.BMP with ClientError('')\n",
      "     Persistent problem for receiving metadata for file R68_06788-v02-clip_500nm_Mg2O-26k.BMP: ClientError('')\n",
      "     Problem for receiving metadata for file R68_06788-v02-clip_500nm_NbMg-100k.BMP with ClientError('')\n",
      "     Persistent problem for receiving metadata for file R68_06788-v02-clip_500nm_NbMg-100k.BMP: ClientError('')\n",
      "     Problem for receiving metadata for file R68_06788-v02-clip_500nm_Scale.BMP with ClientError('')\n",
      "     Persistent problem for receiving metadata for file R68_06788-v02-clip_500nm_Scale.BMP: ClientError('')\n",
      "     Problem for receiving metadata for file R68_06788-v02-clip_Cyl10-10-500nm_BinWidth1nm.csv with ClientError('')\n",
      "     Persistent problem for receiving metadata for file R68_06788-v02-clip_Cyl10-10-500nm_BinWidth1nm.csv: ClientError('')\n",
      "     Problem for receiving metadata for file R68_06788-v02-clip_Cyl20-20-300nm_BinWidth1nm.csv with ClientError('')\n",
      "     Persistent problem for receiving metadata for file R68_06788-v02-clip_Cyl20-20-300nm_BinWidth1nm.csv: ClientError('')\n",
      "     Problem for receiving metadata for file R68_06788-v02-clip_MassSpec.csv with ClientError('')\n",
      "     Persistent problem for receiving metadata for file R68_06788-v02-clip_MassSpec.csv: ClientError('')\n",
      "     Problem for receiving metadata for file R68_06788-v02-clip_ProxAl9%_16nm_0-5nm.csv with ClientError('')\n",
      "     Persistent problem for receiving metadata for file R68_06788-v02-clip_ProxAl9%_16nm_0-5nm.csv: ClientError('')\n",
      "     Problem for receiving metadata for file R68_06788-v02-clip_ProxCa1%_16nm_0-5nm.csv with ClientError('')\n",
      "     Persistent problem for receiving metadata for file R68_06788-v02-clip_ProxCa1%_16nm_0-5nm.csv: ClientError('')\n",
      "     Problem for receiving metadata for file R68_06788-v02-clip_ProxMg2O5%_16nm_0-5nm.csv with ClientError('')\n",
      "     Persistent problem for receiving metadata for file R68_06788-v02-clip_ProxMg2O5%_16nm_0-5nm.csv: ClientError('')\n",
      "     Problem for receiving metadata for file R68_06788-v02-clip_ProxMg96%_16nm_0-5nm.csv with ClientError('')\n",
      "     Persistent problem for receiving metadata for file R68_06788-v02-clip_ProxMg96%_16nm_0-5nm.csv: ClientError('')\n",
      "     Problem for receiving metadata for file R68_06788-v02_RangeFile.RRNG with ClientError('')\n",
      "     Persistent problem for receiving metadata for file R68_06788-v02_RangeFile.RRNG: ClientError('')\n",
      "  Resource Bulk Sample_Mg1Al0.1Ca_NativeOxide at /SFB1394/B03/SolidSolutions/Bulk Sample_Mg1Al0.1Ca_NativeOxide\n",
      "  Resource Bulk Sample_Mg1Al0-05Ca at /SFB1394/B03/SolidSolutions/Bulk Sample_Mg1Al0-05Ca\n",
      "  Resource Bulk Sample_MgAlCa at /SFB1394/B03/SolidSolutions/Bulk Sample_MgAlCa\n",
      "  Resource Mg1Al0,5Ca at /SFB1394/B03/SolidSolutions/Mg1Al0,5Ca\n",
      "  Resource Mg1Al0.006Ca at /SFB1394/B03/SolidSolutions/Mg1Al0.006Ca\n",
      "  Resource Mg1Al0.006Ca at /SFB1394/B03/SolidSolutions/Mg1Al0.006Ca\n"
     ]
    },
    {
     "name": "stdout",
     "output_type": "stream",
     "text": [
      "  Resource Mg1Al0.05Ca at /SFB1394/B03/SolidSolutions/Mg1Al0.05Ca\n",
      "  Resource Mg1Al0.5Ca at /SFB1394/B03/SolidSolutions/Mg1Al0.5Ca\n",
      "  Resource Mg2Al0.2Ca at /SFB1394/B03/SolidSolutions/Mg2Al0.2Ca\n",
      "  Resource R68_07267 at /SFB1394/B03/SolidSolutions/R68_07267\n",
      "  Resource SolidSolution_Mg1Al0.05Ca_Immersion at /SFB1394/B03/SolidSolutions/SolidSolution_Mg1Al0.05Ca_Immersion\n",
      "  Resource Thin Film_Mg99.5Ca0.5_100C at /SFB1394/B03/SolidSolutions/Thin Film_Mg99.5Ca0.5_100C\n",
      "  Resource Thin Film_Mg99.5Ca0.5_RT at /SFB1394/B03/SolidSolutions/Thin Film_Mg99.5Ca0.5_RT\n",
      "  Resource Thin film_Mg-Al-Ca_100 at /SFB1394/B03/SolidSolutions/Thin film_Mg-Al-Ca_100\n",
      "  Resource Thin film_Mg-Al-Ca_100 at /SFB1394/B03/SolidSolutions/Thin film_Mg-Al-Ca_100\n",
      "  Resource Thin Film_Mg-Al-Ca_100 at /SFB1394/B03/SolidSolutions/Thin Film_Mg-Al-Ca_100\n",
      "  Resource Thin Film_Mg-Al-Ca_100C at /SFB1394/B03/SolidSolutions/Thin Film_Mg-Al-Ca_100C\n",
      "Project: B04 at /SFB1394/B04\n",
      "Project: B05 at /SFB1394/B05\n",
      "Project: B06 at /SFB1394/B06\n",
      "Project: C01 at /SFB1394/C01\n",
      "Project: C02 at /SFB1394/C02\n",
      "Project: C03 at /SFB1394/C03\n",
      "Project: C04 at /SFB1394/C04\n",
      "Project: C05 at /SFB1394/C05\n",
      "Project: C06 at /SFB1394/C06\n",
      "Project: Focus Group Workspace at /SFB1394/Focus Group Workspace\n",
      "Project: Dislocations in Laves phases at /SFB1394/Focus Group Workspace/Dislocations in Laves phases\n",
      "Project: Data FG Dislocations in Laves phases at /SFB1394/Focus Group Workspace/Dislocations in Laves phases/Data FG Dislocations in Laves phases\n",
      "Project: Presentations FG Dislocations in Laves phases at /SFB1394/Focus Group Workspace/Dislocations in Laves phases/Presentations FG Dislocations in Laves phases\n",
      "Project: Grain Boundaries  at /SFB1394/Focus Group Workspace/Grain Boundaries \n",
      "Project: Interfaces in composites at /SFB1394/Focus Group Workspace/Interfaces in composites\n",
      "Project: Data at /SFB1394/Focus Group Workspace/Interfaces in composites/Data\n",
      "Project: Presentations at /SFB1394/Focus Group Workspace/Interfaces in composites/Presentations\n",
      "Project: Surface - Corrosion at /SFB1394/Focus Group Workspace/Surface - Corrosion\n",
      "Project: General Assemblies at /SFB1394/General Assemblies\n",
      "Project: GA1_Feb2020_\"Kick-Off\" at /SFB1394/General Assemblies/GA1_Feb2020_\"Kick-Off\"\n",
      "Project: Minutes at /SFB1394/General Assemblies/GA1_Feb2020_\"Kick-Off\"/Minutes\n",
      "Project: Presentations at /SFB1394/General Assemblies/GA1_Feb2020_\"Kick-Off\"/Presentations\n",
      "Project: GA2_Oct2020 at /SFB1394/General Assemblies/GA2_Oct2020\n",
      "Project: Minutes at /SFB1394/General Assemblies/GA2_Oct2020/Minutes\n",
      "Project: Presentations at /SFB1394/General Assemblies/GA2_Oct2020/Presentations\n",
      "Project: GA3_22.02.2021 at /SFB1394/General Assemblies/GA3_22.02.2021\n",
      "Project: Minutes at /SFB1394/General Assemblies/GA3_22.02.2021/Minutes\n",
      "Project: Presentations at /SFB1394/General Assemblies/GA3_22.02.2021/Presentations\n",
      "Project: GA4_20.-21.09.2021 at /SFB1394/General Assemblies/GA4_20.-21.09.2021\n",
      "Project: Minutes at /SFB1394/General Assemblies/GA4_20.-21.09.2021/Minutes\n",
      "Project: Presentations at /SFB1394/General Assemblies/GA4_20.-21.09.2021/Presentations\n",
      "Project: GA5 at /SFB1394/General Assemblies/GA5\n",
      "Project: GA5_Minutes at /SFB1394/General Assemblies/GA5/GA5_Minutes\n",
      "Project: GA5_Preparation at /SFB1394/General Assemblies/GA5/GA5_Preparation\n",
      "Project: GA5_Presentations at /SFB1394/General Assemblies/GA5/GA5_Presentations\n",
      "Project: MGK at /SFB1394/MGK\n",
      "Project: Research Data Management in SFB1394 at /SFB1394/Research Data Management in SFB1394\n",
      "Project: Info on RDM at /SFB1394/Research Data Management in SFB1394/Info on RDM\n",
      "Project: Meta data schemes at /SFB1394/Research Data Management in SFB1394/Meta data schemes\n",
      "Project: Collection from projects at /SFB1394/Research Data Management in SFB1394/Meta data schemes/Collection from projects\n",
      "Project: Examples from external sources at /SFB1394/Research Data Management in SFB1394/Meta data schemes/Examples from external sources\n",
      "Project: Final meta data CoScInE at /SFB1394/Research Data Management in SFB1394/Meta data schemes/Final meta data CoScInE\n",
      "Project: Final meta data PYIRON at /SFB1394/Research Data Management in SFB1394/Meta data schemes/Final meta data PYIRON\n",
      "Project: RDM Team-Exchange at /SFB1394/Research Data Management in SFB1394/Meta data schemes/RDM Team-Exchange\n",
      "Project: RDM Handbook at /SFB1394/Research Data Management in SFB1394/RDM Handbook\n",
      "Project: Data management plans (for each project) at /SFB1394/Research Data Management in SFB1394/RDM Handbook/Data management plans (for each project)\n",
      "Project: S at /SFB1394/S\n",
      "Project: Schools and Tutorials at /SFB1394/Schools and Tutorials\n",
      "Project: Autumn School 2021 at /SFB1394/Schools and Tutorials/Autumn School 2021\n",
      "Project: Lectures at /SFB1394/Schools and Tutorials/Autumn School 2021/Lectures\n",
      "Project: Poster  at /SFB1394/Schools and Tutorials/Autumn School 2021/Poster \n",
      "Project: Summer School 2020 at /SFB1394/Schools and Tutorials/Summer School 2020\n",
      "Project: Tutorials at /SFB1394/Schools and Tutorials/Tutorials\n",
      "Project: shared_data_sources at /SFB1394/shared_data_sources\n",
      "Project: 2021_C36_stability at /SFB1394/shared_data_sources/2021_C36_stability\n",
      "Project: Z at /SFB1394/Z\n",
      "Project: TestProject at /TestProject\n",
      "Project: TestProject2 at /TestProject/TestProject2\n",
      "Project: foo at /TestProject/TestProject2/foo\n",
      "Project: Unter at /TestProject/TestProject2/Unter\n",
      "Project: TestProject2 at /TestProject/TestProject2\n"
     ]
    }
   ],
   "source": [
    "#co.download_from_coscine(verbose_level=2)"
   ]
  },
  {
   "cell_type": "markdown",
   "metadata": {},
   "source": [
    "## Working with the metadata\n",
    "\n",
    "The with the `get_metadata` method, you get a dataframe collecting all the information from the selected schemes. In this case, all metadata from entries belonging to the 'Sample' schema."
   ]
  },
  {
   "cell_type": "code",
   "execution_count": 29,
   "metadata": {},
   "outputs": [],
   "source": [
    "sample_df = meta_data_worker.get_metadata('Sample')"
   ]
  },
  {
   "cell_type": "markdown",
   "metadata": {},
   "source": [
    "The additional `get_T_c` method tries to condense information regarding chemical composition and temperature. Right now, it is only looking for keys starting with 'Target wt.%', 'Actual wt.%', or 'at.%' versions and take these as the chemical composition. Hereby, an entry `'base'` is expanded by `(100 - sum(all_other_elements_listes))` if `expand_c_base=True` (default). Also, if `only_actual_c=False` the target composition is used like the actual composition! The temperature is taken from sample rolling or annealing (keys `'Reduction temp[°C]'`, or `(\"Annealing\", 'Temp.[°C]')`). Thus, this data might have significant problems!"
   ]
  },
  {
   "cell_type": "code",
   "execution_count": 30,
   "metadata": {},
   "outputs": [],
   "source": [
    "t_c_df = meta_data_worker.get_T_c(sample_df, expand_c_base=True, only_actual_c=False)"
   ]
  },
  {
   "cell_type": "markdown",
   "metadata": {},
   "source": [
    "The DataExplorer takes one dataframe and provides a simple Excel like view of the data. In addition, it adds a plotting functionality (currently only ternary plots):"
   ]
  },
  {
   "cell_type": "code",
   "execution_count": 31,
   "metadata": {},
   "outputs": [
    {
     "data": {
      "application/vnd.jupyter.widget-view+json": {
       "model_id": "b28449f446184f848e0d1c6f434b07b3",
       "version_major": 2,
       "version_minor": 0
      },
      "text/plain": [
       "VBox(children=(HBox(children=(HBox(children=(Button(description='Data', style=ButtonStyle()), SelectMultiple(d…"
      ]
     },
     "metadata": {},
     "output_type": "display_data"
    }
   ],
   "source": [
    "de = DataExplorer(t_c_df)\n",
    "de"
   ]
  },
  {
   "cell_type": "code",
   "execution_count": null,
   "metadata": {},
   "outputs": [],
   "source": []
  }
 ],
 "metadata": {
  "kernelspec": {
   "display_name": "Python 3",
   "language": "python",
   "name": "python3"
  },
  "language_info": {
   "codemirror_mode": {
    "name": "ipython",
    "version": 3
   },
   "file_extension": ".py",
   "mimetype": "text/x-python",
   "name": "python",
   "nbconvert_exporter": "python",
   "pygments_lexer": "ipython3",
   "version": "3.8.5"
  }
 },
 "nbformat": 4,
 "nbformat_minor": 4
}
