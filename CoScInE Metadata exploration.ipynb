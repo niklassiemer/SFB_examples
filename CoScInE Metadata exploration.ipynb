{
 "cells": [
  {
   "cell_type": "markdown",
   "metadata": {},
   "source": [
    "# CoScInE Metadata exploration\n",
    "\n",
    "This notebook shows how to explore the metadata stored in the SFB1394 project on CoScInE."
   ]
  },
  {
   "cell_type": "code",
   "execution_count": 1,
   "metadata": {},
   "outputs": [],
   "source": [
    "from sfb_metadata import CoscineOverview, DataExplorer, WorkCoscineOverview"
   ]
  },
  {
   "cell_type": "markdown",
   "metadata": {},
   "source": [
    "Here you may specify your token to also access file contents on coscine (or to update the metadata with all resources currently accessible by you). The CoscineOverview is the basic interface to CoScInE and the WorkCoscineOverview gives access to metadata for specific Resources/Files/Schemes:"
   ]
  },
  {
   "cell_type": "code",
   "execution_count": 2,
   "metadata": {},
   "outputs": [],
   "source": [
    "co = CoscineOverview(token=None)  # Provide your coscine token to get access to file contents, as well.\n",
    "meta_data_worker = WorkCoscineOverview(co)"
   ]
  },
  {
   "cell_type": "markdown",
   "metadata": {},
   "source": [
    "## Working with the metadata\n",
    "\n",
    "The with the `get_metadata` method, you get a dataframe collecting all the information from the selected schemes. In this case, all metadata from entries belonging to the 'Sample' schema."
   ]
  },
  {
   "cell_type": "code",
   "execution_count": 3,
   "metadata": {},
   "outputs": [],
   "source": [
    "sample_df = meta_data_worker.get_metadata('Sample')"
   ]
  },
  {
   "cell_type": "markdown",
   "metadata": {},
   "source": [
    "The additional `get_T_c` method tries to condense information regarding chemical composition and temperature. Right now, it is only looking for keys starting with 'Target wt.%', 'Actual wt.%', or 'at.%' versions and take these as the chemical composition. Hereby, an entry `'base'` is expanded by `(100 - sum(all_other_elements_listes))` if `expand_c_base=True` (default). Also, if `only_actual_c=False` the target composition is used like the actual composition! The temperature is taken from sample rolling or annealing (keys `'Reduction temp[°C]'`, or `(\"Annealing\", 'Temp.[°C]')`). Thus, this data might have significant problems!"
   ]
  },
  {
   "cell_type": "code",
   "execution_count": 4,
   "metadata": {},
   "outputs": [],
   "source": [
    "t_c_df = meta_data_worker.get_T_c(sample_df, expand_c_base=True, only_actual_c=False)"
   ]
  },
  {
   "cell_type": "markdown",
   "metadata": {},
   "source": [
    "The DataExplorer takes one dataframe and provides a simple Excel like view of the data. In addition, it adds a plotting functionality (currently only ternary plots):"
   ]
  },
  {
   "cell_type": "code",
   "execution_count": 5,
   "metadata": {},
   "outputs": [
    {
     "data": {
      "application/vnd.jupyter.widget-view+json": {
       "model_id": "dfe0b5d525744a48a5ad3ab83cd867d5",
       "version_major": 2,
       "version_minor": 0
      },
      "text/plain": [
       "VBox(children=(HBox(children=(HBox(children=(Button(description='Data', style=ButtonStyle()), SelectMultiple(d…"
      ]
     },
     "metadata": {},
     "output_type": "display_data"
    }
   ],
   "source": [
    "de = DataExplorer(t_c_df)\n",
    "de"
   ]
  },
  {
   "cell_type": "code",
   "execution_count": null,
   "metadata": {},
   "outputs": [],
   "source": []
  }
 ],
 "metadata": {
  "kernelspec": {
   "display_name": "Python 3",
   "language": "python",
   "name": "python3"
  },
  "language_info": {
   "codemirror_mode": {
    "name": "ipython",
    "version": 3
   },
   "file_extension": ".py",
   "mimetype": "text/x-python",
   "name": "python",
   "nbconvert_exporter": "python",
   "pygments_lexer": "ipython3",
   "version": "3.8.5"
  }
 },
 "nbformat": 4,
 "nbformat_minor": 4
}
