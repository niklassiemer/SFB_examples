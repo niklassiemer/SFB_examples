{
 "cells": [
  {
   "cell_type": "code",
   "execution_count": 1,
   "id": "864746a9",
   "metadata": {},
   "outputs": [],
   "source": [
    "from pyiron_contrib.RDM.project import RDMProject"
   ]
  },
  {
   "cell_type": "code",
   "execution_count": 2,
   "id": "fd2e44c3",
   "metadata": {},
   "outputs": [
    {
     "data": {
      "application/vnd.jupyter.widget-view+json": {
       "model_id": "0f31e1b32ea443e495cb080ebeaa6d71",
       "version_major": 2,
       "version_minor": 0
      },
      "text/plain": [
       "VBox(children=(HBox(children=(Button(icon='home', layout=Layout(align_items='center', display='flex', height='…"
      ]
     },
     "metadata": {},
     "output_type": "display_data"
    }
   ],
   "source": [
    "pr = RDMProject('SFBs')\n",
    "pr.create_group('SFB1394')\n",
    "pr.gui"
   ]
  },
  {
   "cell_type": "code",
   "execution_count": null,
   "id": "cfa90765",
   "metadata": {},
   "outputs": [],
   "source": []
  }
 ],
 "metadata": {
  "kernelspec": {
   "display_name": "Python 3",
   "language": "python",
   "name": "python3"
  },
  "language_info": {
   "codemirror_mode": {
    "name": "ipython",
    "version": 3
   },
   "file_extension": ".py",
   "mimetype": "text/x-python",
   "name": "python",
   "nbconvert_exporter": "python",
   "pygments_lexer": "ipython3",
   "version": "3.8.5"
  }
 },
 "nbformat": 4,
 "nbformat_minor": 5
}
