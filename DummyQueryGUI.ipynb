{
 "cells": [
  {
   "cell_type": "code",
   "execution_count": 1,
   "metadata": {},
   "outputs": [],
   "source": [
    "import ipywidgets as wid\n",
    "import matplotlib.pyplot as plt\n",
    "from IPython.display import display"
   ]
  },
  {
   "cell_type": "code",
   "execution_count": 2,
   "metadata": {},
   "outputs": [],
   "source": [
    "output1 = wid.Output()\n",
    "output2 = wid.Output()\n",
    "\n",
    "def on_click(b):\n",
    "    with output1:\n",
    "        print('foo, bar, baz')\n",
    "\n",
    "wid_dict = {}\n",
    "for name in [\"type\", \"APT\", 'or', 'TEM', 'and', 'Metadata', 'composition', 'Al', '>=', 'Ca']:\n",
    "    wid_dict[name] = wid.Dropdown(options=[name])\n",
    "wid_dict['hidden_and'] = wid.Dropdown(options=['and'], layout={'visibility': 'hidden'})\n",
    "wid_dict['+'] = wid.Button(description='+')\n",
    "run_button = wid.Button(description='Run Query')\n",
    "run_button.on_click(on_click)\n",
    "wid_dict['run'] = run_button\n",
    "wid_dict['float1'] = wid.FloatText(value=0.5)\n",
    "wid_dict['float2'] = wid.FloatText()"
   ]
  },
  {
   "cell_type": "code",
   "execution_count": 3,
   "metadata": {},
   "outputs": [],
   "source": [
    "query_box = wid.VBox([\n",
    "    wid.HBox([wid_dict[name] for name in ['hidden_and','type', 'APT', 'or', 'TEM', '+']], layout={'width':'85%'}),\n",
    "    wid.HBox([wid_dict[name] for name in ['and','Metadata', 'composition', 'Al', '>=', 'float1', '+']]),\n",
    "    wid.HBox([wid_dict[name] for name in ['and','Metadata', 'composition', 'Ca', '>=', 'float2', '+']]),\n",
    "    wid.HBox([wid_dict[name] for name in ['hidden_and', '+', 'hidden_and']], layout={'width':'38%'}),\n",
    "    wid.HBox([wid_dict[name] for name in ['hidden_and', 'run', 'hidden_and']], layout={'width':'45%'}),\n",
    "    wid.Label('Matches:'),\n",
    "    output1\n",
    "], layout={'width':\"900px\"})"
   ]
  },
  {
   "cell_type": "code",
   "execution_count": 4,
   "metadata": {},
   "outputs": [],
   "source": [
    "def plot_dummy_data(b):\n",
    "    with output2:\n",
    "        plt.ioff()\n",
    "        fig, ax = plt.subplots()\n",
    "        ax.plot('Al', 'Ca', 'go', data={'Ca': [0.2, 0.17, 0.1], 'Al':[0.55, 0.6, 0.75]}, label=\"TEM\")\n",
    "        ax.plot('Al', 'Ca', 'rx', data={'Ca': [0.13, 0.2, 0.11], 'Al':[0.56, 0.6, 0.65]}, label=\"APT\")\n",
    "        ax.set_xlabel('Al')\n",
    "        ax.set_ylabel('Ca')\n",
    "        ax.legend(loc='upper right', shadow=True, fontsize='x-large')\n",
    "        display(fig)"
   ]
  },
  {
   "cell_type": "code",
   "execution_count": 5,
   "metadata": {},
   "outputs": [],
   "source": [
    "plot_button = wid.Button(description='Plot')\n",
    "plot_button.on_click(plot_dummy_data)\n",
    "output=wid.Output()\n",
    "plot_box = wid.VBox([\n",
    "wid.Dropdown(description=\"Source:\", options=['Matches']),\n",
    "wid.Dropdown(description=\"x=\", options=['Metadata.composition.Al']),\n",
    "wid.Dropdown(description=\"x=\", options=['Metadata.composition.Ca']),\n",
    "wid.HBox([wid.Dropdown(description=\"legend=\", options=['Type']), plot_button]),\n",
    "output2\n",
    "])\n"
   ]
  },
  {
   "cell_type": "code",
   "execution_count": 6,
   "metadata": {},
   "outputs": [],
   "source": [
    "Tab = wid.Tab([query_box, plot_box])\n",
    "Tab.set_title(0, \"Query\")\n",
    "Tab.set_title(1, 'Plot')"
   ]
  },
  {
   "cell_type": "code",
   "execution_count": 7,
   "metadata": {},
   "outputs": [
    {
     "data": {
      "application/vnd.jupyter.widget-view+json": {
       "model_id": "daf84d60e64645cd89ae9d971dc77f26",
       "version_major": 2,
       "version_minor": 0
      },
      "text/plain": [
       "Tab(children=(VBox(children=(HBox(children=(Dropdown(layout=Layout(visibility='hidden'), options=('and',), val…"
      ]
     },
     "metadata": {},
     "output_type": "display_data"
    }
   ],
   "source": [
    "Tab"
   ]
  },
  {
   "cell_type": "code",
   "execution_count": null,
   "metadata": {},
   "outputs": [],
   "source": []
  }
 ],
 "metadata": {
  "kernelspec": {
   "display_name": "Python 3",
   "language": "python",
   "name": "python3"
  },
  "language_info": {
   "codemirror_mode": {
    "name": "ipython",
    "version": 3
   },
   "file_extension": ".py",
   "mimetype": "text/x-python",
   "name": "python",
   "nbconvert_exporter": "python",
   "pygments_lexer": "ipython3",
   "version": "3.8.5"
  }
 },
 "nbformat": 4,
 "nbformat_minor": 4
}
